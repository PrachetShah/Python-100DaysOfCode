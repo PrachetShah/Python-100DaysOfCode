{
  "nbformat": 4,
  "nbformat_minor": 0,
  "metadata": {
    "kernelspec": {
      "display_name": "Python 3",
      "language": "python",
      "name": "python3"
    },
    "language_info": {
      "codemirror_mode": {
        "name": "ipython",
        "version": 3
      },
      "file_extension": ".py",
      "mimetype": "text/x-python",
      "name": "python",
      "nbconvert_exporter": "python",
      "pygments_lexer": "ipython3",
      "version": "3.7.3"
    },
    "colab": {
      "name": "Analysis_of_Popular_Programming_Languages.ipynb",
      "provenance": [],
      "include_colab_link": true
    }
  },
  "cells": [
    {
      "cell_type": "markdown",
      "metadata": {
        "id": "view-in-github",
        "colab_type": "text"
      },
      "source": [
        "<a href=\"https://colab.research.google.com/github/PrachetShah/Python-100DaysOfCode/blob/main/Day%2072%20Analysins%20Popular%20Programming%20Languages/Analysis_of_Popular_Programming_Languages.ipynb\" target=\"_parent\"><img src=\"https://colab.research.google.com/assets/colab-badge.svg\" alt=\"Open In Colab\"/></a>"
      ]
    },
    {
      "cell_type": "markdown",
      "metadata": {
        "id": "MAAKxOwsGxuj"
      },
      "source": [
        "## Get the Data\n",
        "\n",
        "Either use the provided .csv file or (optionally) get fresh (the freshest?) data from running an SQL query on StackExchange: \n",
        "\n",
        "Follow this link to run the query from [StackExchange](https://data.stackexchange.com/stackoverflow/query/675441/popular-programming-languages-per-over-time-eversql-com) to get your own .csv file\n",
        "\n",
        "<code>\n",
        "select dateadd(month, datediff(month, 0, q.CreationDate), 0) m, TagName, count(*)\n",
        "from PostTags pt\n",
        "join Posts q on q.Id=pt.PostId\n",
        "join Tags t on t.Id=pt.TagId\n",
        "where TagName in ('java','c','c++','python','c#','javascript','assembly','php','perl','ruby','visual basic','swift','r','object-c','scratch','go','swift','delphi')\n",
        "and q.CreationDate < dateadd(month, datediff(month, 0, getdate()), 0)\n",
        "group by dateadd(month, datediff(month, 0, q.CreationDate), 0), TagName\n",
        "order by dateadd(month, datediff(month, 0, q.CreationDate), 0)\n",
        "</code>"
      ]
    },
    {
      "cell_type": "markdown",
      "metadata": {
        "id": "u5KcSXt1Gxuk"
      },
      "source": [
        "## Import Statements"
      ]
    },
    {
      "cell_type": "code",
      "metadata": {
        "id": "Ru4Wq-pXGxuk"
      },
      "source": [
        "import pandas as pd\n",
        "import matplotlib.pyplot as plt"
      ],
      "execution_count": 19,
      "outputs": []
    },
    {
      "cell_type": "markdown",
      "metadata": {
        "id": "xEP6beuEGxun"
      },
      "source": [
        "## Data Exploration"
      ]
    },
    {
      "cell_type": "markdown",
      "metadata": {
        "id": "w3Q75B4CGxun"
      },
      "source": [
        "**Challenge**: Read the .csv file and store it in a Pandas dataframe"
      ]
    },
    {
      "cell_type": "code",
      "metadata": {
        "id": "Bm7hQtEGIiri"
      },
      "source": [
        "df = pd.read_csv(\"QueryResults.csv\", names=['DATE', 'TAG', 'POSTS'], header=0)"
      ],
      "execution_count": 2,
      "outputs": []
    },
    {
      "cell_type": "markdown",
      "metadata": {
        "id": "x2WnDM75Gxup"
      },
      "source": [
        "**Challenge**: Examine the first 5 rows and the last 5 rows of the of the dataframe"
      ]
    },
    {
      "cell_type": "code",
      "metadata": {
        "id": "50oqpUxVIiJf",
        "colab": {
          "base_uri": "https://localhost:8080/",
          "height": 203
        },
        "outputId": "f3c25a03-273c-41ad-94ad-5911621e770d"
      },
      "source": [
        "df.head()"
      ],
      "execution_count": 3,
      "outputs": [
        {
          "output_type": "execute_result",
          "data": {
            "text/html": [
              "<div>\n",
              "<style scoped>\n",
              "    .dataframe tbody tr th:only-of-type {\n",
              "        vertical-align: middle;\n",
              "    }\n",
              "\n",
              "    .dataframe tbody tr th {\n",
              "        vertical-align: top;\n",
              "    }\n",
              "\n",
              "    .dataframe thead th {\n",
              "        text-align: right;\n",
              "    }\n",
              "</style>\n",
              "<table border=\"1\" class=\"dataframe\">\n",
              "  <thead>\n",
              "    <tr style=\"text-align: right;\">\n",
              "      <th></th>\n",
              "      <th>DATE</th>\n",
              "      <th>TAG</th>\n",
              "      <th>POSTS</th>\n",
              "    </tr>\n",
              "  </thead>\n",
              "  <tbody>\n",
              "    <tr>\n",
              "      <th>0</th>\n",
              "      <td>2008-07-01 00:00:00</td>\n",
              "      <td>c#</td>\n",
              "      <td>3</td>\n",
              "    </tr>\n",
              "    <tr>\n",
              "      <th>1</th>\n",
              "      <td>2008-08-01 00:00:00</td>\n",
              "      <td>assembly</td>\n",
              "      <td>8</td>\n",
              "    </tr>\n",
              "    <tr>\n",
              "      <th>2</th>\n",
              "      <td>2008-08-01 00:00:00</td>\n",
              "      <td>javascript</td>\n",
              "      <td>162</td>\n",
              "    </tr>\n",
              "    <tr>\n",
              "      <th>3</th>\n",
              "      <td>2008-08-01 00:00:00</td>\n",
              "      <td>c</td>\n",
              "      <td>85</td>\n",
              "    </tr>\n",
              "    <tr>\n",
              "      <th>4</th>\n",
              "      <td>2008-08-01 00:00:00</td>\n",
              "      <td>python</td>\n",
              "      <td>124</td>\n",
              "    </tr>\n",
              "  </tbody>\n",
              "</table>\n",
              "</div>"
            ],
            "text/plain": [
              "                  DATE         TAG  POSTS\n",
              "0  2008-07-01 00:00:00          c#      3\n",
              "1  2008-08-01 00:00:00    assembly      8\n",
              "2  2008-08-01 00:00:00  javascript    162\n",
              "3  2008-08-01 00:00:00           c     85\n",
              "4  2008-08-01 00:00:00      python    124"
            ]
          },
          "metadata": {},
          "execution_count": 3
        }
      ]
    },
    {
      "cell_type": "code",
      "metadata": {
        "colab": {
          "base_uri": "https://localhost:8080/",
          "height": 203
        },
        "id": "MzT9sGQybxge",
        "outputId": "0b3e3e5b-11b8-4d89-e8fd-08be2ec25877"
      },
      "source": [
        "df.tail()"
      ],
      "execution_count": 4,
      "outputs": [
        {
          "output_type": "execute_result",
          "data": {
            "text/html": [
              "<div>\n",
              "<style scoped>\n",
              "    .dataframe tbody tr th:only-of-type {\n",
              "        vertical-align: middle;\n",
              "    }\n",
              "\n",
              "    .dataframe tbody tr th {\n",
              "        vertical-align: top;\n",
              "    }\n",
              "\n",
              "    .dataframe thead th {\n",
              "        text-align: right;\n",
              "    }\n",
              "</style>\n",
              "<table border=\"1\" class=\"dataframe\">\n",
              "  <thead>\n",
              "    <tr style=\"text-align: right;\">\n",
              "      <th></th>\n",
              "      <th>DATE</th>\n",
              "      <th>TAG</th>\n",
              "      <th>POSTS</th>\n",
              "    </tr>\n",
              "  </thead>\n",
              "  <tbody>\n",
              "    <tr>\n",
              "      <th>1986</th>\n",
              "      <td>2020-07-01 00:00:00</td>\n",
              "      <td>r</td>\n",
              "      <td>5694</td>\n",
              "    </tr>\n",
              "    <tr>\n",
              "      <th>1987</th>\n",
              "      <td>2020-07-01 00:00:00</td>\n",
              "      <td>go</td>\n",
              "      <td>743</td>\n",
              "    </tr>\n",
              "    <tr>\n",
              "      <th>1988</th>\n",
              "      <td>2020-07-01 00:00:00</td>\n",
              "      <td>ruby</td>\n",
              "      <td>775</td>\n",
              "    </tr>\n",
              "    <tr>\n",
              "      <th>1989</th>\n",
              "      <td>2020-07-01 00:00:00</td>\n",
              "      <td>perl</td>\n",
              "      <td>182</td>\n",
              "    </tr>\n",
              "    <tr>\n",
              "      <th>1990</th>\n",
              "      <td>2020-07-01 00:00:00</td>\n",
              "      <td>swift</td>\n",
              "      <td>3607</td>\n",
              "    </tr>\n",
              "  </tbody>\n",
              "</table>\n",
              "</div>"
            ],
            "text/plain": [
              "                     DATE    TAG  POSTS\n",
              "1986  2020-07-01 00:00:00      r   5694\n",
              "1987  2020-07-01 00:00:00     go    743\n",
              "1988  2020-07-01 00:00:00   ruby    775\n",
              "1989  2020-07-01 00:00:00   perl    182\n",
              "1990  2020-07-01 00:00:00  swift   3607"
            ]
          },
          "metadata": {},
          "execution_count": 4
        }
      ]
    },
    {
      "cell_type": "markdown",
      "metadata": {
        "id": "0o9hvVgyGxus"
      },
      "source": [
        "**Challenge:** Check how many rows and how many columns there are. \n",
        "What are the dimensions of the dataframe?"
      ]
    },
    {
      "cell_type": "code",
      "metadata": {
        "id": "ZUidjCPFIho8",
        "colab": {
          "base_uri": "https://localhost:8080/"
        },
        "outputId": "eb018a19-63fc-4a58-8012-e9182364c19f"
      },
      "source": [
        "df.shape"
      ],
      "execution_count": 5,
      "outputs": [
        {
          "output_type": "execute_result",
          "data": {
            "text/plain": [
              "(1991, 3)"
            ]
          },
          "metadata": {},
          "execution_count": 5
        }
      ]
    },
    {
      "cell_type": "markdown",
      "metadata": {
        "id": "ybZkNLmxGxuu"
      },
      "source": [
        "**Challenge**: Count the number of entries in each column of the dataframe"
      ]
    },
    {
      "cell_type": "code",
      "metadata": {
        "id": "Sc1dmmOoIg2g",
        "colab": {
          "base_uri": "https://localhost:8080/"
        },
        "outputId": "0426b481-3602-4750-94fe-70f4af546cbe"
      },
      "source": [
        "df.count()"
      ],
      "execution_count": 6,
      "outputs": [
        {
          "output_type": "execute_result",
          "data": {
            "text/plain": [
              "DATE     1991\n",
              "TAG      1991\n",
              "POSTS    1991\n",
              "dtype: int64"
            ]
          },
          "metadata": {},
          "execution_count": 6
        }
      ]
    },
    {
      "cell_type": "markdown",
      "metadata": {
        "id": "hlnfFsscGxuw"
      },
      "source": [
        "**Challenge**: Calculate the total number of post per language.\n",
        "Which Programming language has had the highest total number of posts of all time?"
      ]
    },
    {
      "cell_type": "code",
      "metadata": {
        "id": "9-NYFONcIc1X",
        "colab": {
          "base_uri": "https://localhost:8080/",
          "height": 511
        },
        "outputId": "197cdba8-b44f-4846-a20b-43518e34e112"
      },
      "source": [
        "df.groupby('TAG').sum()"
      ],
      "execution_count": 7,
      "outputs": [
        {
          "output_type": "execute_result",
          "data": {
            "text/html": [
              "<div>\n",
              "<style scoped>\n",
              "    .dataframe tbody tr th:only-of-type {\n",
              "        vertical-align: middle;\n",
              "    }\n",
              "\n",
              "    .dataframe tbody tr th {\n",
              "        vertical-align: top;\n",
              "    }\n",
              "\n",
              "    .dataframe thead th {\n",
              "        text-align: right;\n",
              "    }\n",
              "</style>\n",
              "<table border=\"1\" class=\"dataframe\">\n",
              "  <thead>\n",
              "    <tr style=\"text-align: right;\">\n",
              "      <th></th>\n",
              "      <th>POSTS</th>\n",
              "    </tr>\n",
              "    <tr>\n",
              "      <th>TAG</th>\n",
              "      <th></th>\n",
              "    </tr>\n",
              "  </thead>\n",
              "  <tbody>\n",
              "    <tr>\n",
              "      <th>assembly</th>\n",
              "      <td>34852</td>\n",
              "    </tr>\n",
              "    <tr>\n",
              "      <th>c</th>\n",
              "      <td>336042</td>\n",
              "    </tr>\n",
              "    <tr>\n",
              "      <th>c#</th>\n",
              "      <td>1423530</td>\n",
              "    </tr>\n",
              "    <tr>\n",
              "      <th>c++</th>\n",
              "      <td>684210</td>\n",
              "    </tr>\n",
              "    <tr>\n",
              "      <th>delphi</th>\n",
              "      <td>46212</td>\n",
              "    </tr>\n",
              "    <tr>\n",
              "      <th>go</th>\n",
              "      <td>47499</td>\n",
              "    </tr>\n",
              "    <tr>\n",
              "      <th>java</th>\n",
              "      <td>1696403</td>\n",
              "    </tr>\n",
              "    <tr>\n",
              "      <th>javascript</th>\n",
              "      <td>2056510</td>\n",
              "    </tr>\n",
              "    <tr>\n",
              "      <th>perl</th>\n",
              "      <td>65286</td>\n",
              "    </tr>\n",
              "    <tr>\n",
              "      <th>php</th>\n",
              "      <td>1361988</td>\n",
              "    </tr>\n",
              "    <tr>\n",
              "      <th>python</th>\n",
              "      <td>1496210</td>\n",
              "    </tr>\n",
              "    <tr>\n",
              "      <th>r</th>\n",
              "      <td>356799</td>\n",
              "    </tr>\n",
              "    <tr>\n",
              "      <th>ruby</th>\n",
              "      <td>214582</td>\n",
              "    </tr>\n",
              "    <tr>\n",
              "      <th>swift</th>\n",
              "      <td>273055</td>\n",
              "    </tr>\n",
              "  </tbody>\n",
              "</table>\n",
              "</div>"
            ],
            "text/plain": [
              "              POSTS\n",
              "TAG                \n",
              "assembly      34852\n",
              "c            336042\n",
              "c#          1423530\n",
              "c++          684210\n",
              "delphi        46212\n",
              "go            47499\n",
              "java        1696403\n",
              "javascript  2056510\n",
              "perl          65286\n",
              "php         1361988\n",
              "python      1496210\n",
              "r            356799\n",
              "ruby         214582\n",
              "swift        273055"
            ]
          },
          "metadata": {},
          "execution_count": 7
        }
      ]
    },
    {
      "cell_type": "markdown",
      "metadata": {
        "id": "iVCesB49Gxuz"
      },
      "source": [
        "Some languages are older (e.g., C) and other languages are newer (e.g., Swift). The dataset starts in September 2008.\n",
        "\n",
        "**Challenge**: How many months of data exist per language? Which language had the fewest months with an entry? \n"
      ]
    },
    {
      "cell_type": "code",
      "metadata": {
        "id": "hDT4JlJNJfgQ",
        "colab": {
          "base_uri": "https://localhost:8080/",
          "height": 511
        },
        "outputId": "f3ac5499-5861-4ac9-d43f-9d9aa552c7ad"
      },
      "source": [
        "df.groupby('TAG').count()"
      ],
      "execution_count": 8,
      "outputs": [
        {
          "output_type": "execute_result",
          "data": {
            "text/html": [
              "<div>\n",
              "<style scoped>\n",
              "    .dataframe tbody tr th:only-of-type {\n",
              "        vertical-align: middle;\n",
              "    }\n",
              "\n",
              "    .dataframe tbody tr th {\n",
              "        vertical-align: top;\n",
              "    }\n",
              "\n",
              "    .dataframe thead th {\n",
              "        text-align: right;\n",
              "    }\n",
              "</style>\n",
              "<table border=\"1\" class=\"dataframe\">\n",
              "  <thead>\n",
              "    <tr style=\"text-align: right;\">\n",
              "      <th></th>\n",
              "      <th>DATE</th>\n",
              "      <th>POSTS</th>\n",
              "    </tr>\n",
              "    <tr>\n",
              "      <th>TAG</th>\n",
              "      <th></th>\n",
              "      <th></th>\n",
              "    </tr>\n",
              "  </thead>\n",
              "  <tbody>\n",
              "    <tr>\n",
              "      <th>assembly</th>\n",
              "      <td>144</td>\n",
              "      <td>144</td>\n",
              "    </tr>\n",
              "    <tr>\n",
              "      <th>c</th>\n",
              "      <td>144</td>\n",
              "      <td>144</td>\n",
              "    </tr>\n",
              "    <tr>\n",
              "      <th>c#</th>\n",
              "      <td>145</td>\n",
              "      <td>145</td>\n",
              "    </tr>\n",
              "    <tr>\n",
              "      <th>c++</th>\n",
              "      <td>144</td>\n",
              "      <td>144</td>\n",
              "    </tr>\n",
              "    <tr>\n",
              "      <th>delphi</th>\n",
              "      <td>144</td>\n",
              "      <td>144</td>\n",
              "    </tr>\n",
              "    <tr>\n",
              "      <th>go</th>\n",
              "      <td>129</td>\n",
              "      <td>129</td>\n",
              "    </tr>\n",
              "    <tr>\n",
              "      <th>java</th>\n",
              "      <td>144</td>\n",
              "      <td>144</td>\n",
              "    </tr>\n",
              "    <tr>\n",
              "      <th>javascript</th>\n",
              "      <td>144</td>\n",
              "      <td>144</td>\n",
              "    </tr>\n",
              "    <tr>\n",
              "      <th>perl</th>\n",
              "      <td>144</td>\n",
              "      <td>144</td>\n",
              "    </tr>\n",
              "    <tr>\n",
              "      <th>php</th>\n",
              "      <td>144</td>\n",
              "      <td>144</td>\n",
              "    </tr>\n",
              "    <tr>\n",
              "      <th>python</th>\n",
              "      <td>144</td>\n",
              "      <td>144</td>\n",
              "    </tr>\n",
              "    <tr>\n",
              "      <th>r</th>\n",
              "      <td>142</td>\n",
              "      <td>142</td>\n",
              "    </tr>\n",
              "    <tr>\n",
              "      <th>ruby</th>\n",
              "      <td>144</td>\n",
              "      <td>144</td>\n",
              "    </tr>\n",
              "    <tr>\n",
              "      <th>swift</th>\n",
              "      <td>135</td>\n",
              "      <td>135</td>\n",
              "    </tr>\n",
              "  </tbody>\n",
              "</table>\n",
              "</div>"
            ],
            "text/plain": [
              "            DATE  POSTS\n",
              "TAG                    \n",
              "assembly     144    144\n",
              "c            144    144\n",
              "c#           145    145\n",
              "c++          144    144\n",
              "delphi       144    144\n",
              "go           129    129\n",
              "java         144    144\n",
              "javascript   144    144\n",
              "perl         144    144\n",
              "php          144    144\n",
              "python       144    144\n",
              "r            142    142\n",
              "ruby         144    144\n",
              "swift        135    135"
            ]
          },
          "metadata": {},
          "execution_count": 8
        }
      ]
    },
    {
      "cell_type": "markdown",
      "metadata": {
        "id": "arguGp3ZGxu1"
      },
      "source": [
        "## Data Cleaning\n",
        "\n",
        "Let's fix the date format to make it more readable. We need to use Pandas to change format from a string of \"2008-07-01 00:00:00\" to a datetime object with the format of \"2008-07-01\""
      ]
    },
    {
      "cell_type": "code",
      "metadata": {
        "id": "5nh5a4UtGxu1",
        "colab": {
          "base_uri": "https://localhost:8080/",
          "height": 35
        },
        "outputId": "0e148330-8bd3-4566-ed1d-380ff1b3b49b"
      },
      "source": [
        "df['DATE'][1]"
      ],
      "execution_count": 9,
      "outputs": [
        {
          "output_type": "execute_result",
          "data": {
            "application/vnd.google.colaboratory.intrinsic+json": {
              "type": "string"
            },
            "text/plain": [
              "'2008-08-01 00:00:00'"
            ]
          },
          "metadata": {},
          "execution_count": 9
        }
      ]
    },
    {
      "cell_type": "code",
      "metadata": {
        "id": "016H-Fy4Gxu3",
        "colab": {
          "base_uri": "https://localhost:8080/",
          "height": 203
        },
        "outputId": "68059079-e8ac-4933-ac3a-15639f449c01"
      },
      "source": [
        "df.DATE = pd.to_datetime(df.DATE)\n",
        "df.head()"
      ],
      "execution_count": 10,
      "outputs": [
        {
          "output_type": "execute_result",
          "data": {
            "text/html": [
              "<div>\n",
              "<style scoped>\n",
              "    .dataframe tbody tr th:only-of-type {\n",
              "        vertical-align: middle;\n",
              "    }\n",
              "\n",
              "    .dataframe tbody tr th {\n",
              "        vertical-align: top;\n",
              "    }\n",
              "\n",
              "    .dataframe thead th {\n",
              "        text-align: right;\n",
              "    }\n",
              "</style>\n",
              "<table border=\"1\" class=\"dataframe\">\n",
              "  <thead>\n",
              "    <tr style=\"text-align: right;\">\n",
              "      <th></th>\n",
              "      <th>DATE</th>\n",
              "      <th>TAG</th>\n",
              "      <th>POSTS</th>\n",
              "    </tr>\n",
              "  </thead>\n",
              "  <tbody>\n",
              "    <tr>\n",
              "      <th>0</th>\n",
              "      <td>2008-07-01</td>\n",
              "      <td>c#</td>\n",
              "      <td>3</td>\n",
              "    </tr>\n",
              "    <tr>\n",
              "      <th>1</th>\n",
              "      <td>2008-08-01</td>\n",
              "      <td>assembly</td>\n",
              "      <td>8</td>\n",
              "    </tr>\n",
              "    <tr>\n",
              "      <th>2</th>\n",
              "      <td>2008-08-01</td>\n",
              "      <td>javascript</td>\n",
              "      <td>162</td>\n",
              "    </tr>\n",
              "    <tr>\n",
              "      <th>3</th>\n",
              "      <td>2008-08-01</td>\n",
              "      <td>c</td>\n",
              "      <td>85</td>\n",
              "    </tr>\n",
              "    <tr>\n",
              "      <th>4</th>\n",
              "      <td>2008-08-01</td>\n",
              "      <td>python</td>\n",
              "      <td>124</td>\n",
              "    </tr>\n",
              "  </tbody>\n",
              "</table>\n",
              "</div>"
            ],
            "text/plain": [
              "        DATE         TAG  POSTS\n",
              "0 2008-07-01          c#      3\n",
              "1 2008-08-01    assembly      8\n",
              "2 2008-08-01  javascript    162\n",
              "3 2008-08-01           c     85\n",
              "4 2008-08-01      python    124"
            ]
          },
          "metadata": {},
          "execution_count": 10
        }
      ]
    },
    {
      "cell_type": "markdown",
      "metadata": {
        "id": "rWAV6tuzGxu6"
      },
      "source": [
        "## Data Manipulation\n",
        "\n"
      ]
    },
    {
      "cell_type": "code",
      "metadata": {
        "id": "aHhbulJaGxu7"
      },
      "source": [
        "reshaped_df = df.pivot(index='DATE', columns='TAG', values='POSTS')"
      ],
      "execution_count": 11,
      "outputs": []
    },
    {
      "cell_type": "markdown",
      "metadata": {
        "id": "RWKcVIyFKwHM"
      },
      "source": [
        "**Challenge**: What are the dimensions of our new dataframe? How many rows and columns does it have? Print out the column names and print out the first 5 rows of the dataframe."
      ]
    },
    {
      "cell_type": "code",
      "metadata": {
        "id": "v-u4FcLXGxu9",
        "colab": {
          "base_uri": "https://localhost:8080/"
        },
        "outputId": "b11356b5-5d9f-439f-f471-611c8c9fd41f"
      },
      "source": [
        "reshaped_df.shape"
      ],
      "execution_count": 12,
      "outputs": [
        {
          "output_type": "execute_result",
          "data": {
            "text/plain": [
              "(145, 14)"
            ]
          },
          "metadata": {},
          "execution_count": 12
        }
      ]
    },
    {
      "cell_type": "code",
      "metadata": {
        "id": "NUyBcaMMGxu-",
        "colab": {
          "base_uri": "https://localhost:8080/",
          "height": 234
        },
        "outputId": "f728e23a-1b19-4143-8fd5-74b9afdd7beb"
      },
      "source": [
        "reshaped_df.head()"
      ],
      "execution_count": 13,
      "outputs": [
        {
          "output_type": "execute_result",
          "data": {
            "text/html": [
              "<div>\n",
              "<style scoped>\n",
              "    .dataframe tbody tr th:only-of-type {\n",
              "        vertical-align: middle;\n",
              "    }\n",
              "\n",
              "    .dataframe tbody tr th {\n",
              "        vertical-align: top;\n",
              "    }\n",
              "\n",
              "    .dataframe thead th {\n",
              "        text-align: right;\n",
              "    }\n",
              "</style>\n",
              "<table border=\"1\" class=\"dataframe\">\n",
              "  <thead>\n",
              "    <tr style=\"text-align: right;\">\n",
              "      <th>TAG</th>\n",
              "      <th>assembly</th>\n",
              "      <th>c</th>\n",
              "      <th>c#</th>\n",
              "      <th>c++</th>\n",
              "      <th>delphi</th>\n",
              "      <th>go</th>\n",
              "      <th>java</th>\n",
              "      <th>javascript</th>\n",
              "      <th>perl</th>\n",
              "      <th>php</th>\n",
              "      <th>python</th>\n",
              "      <th>r</th>\n",
              "      <th>ruby</th>\n",
              "      <th>swift</th>\n",
              "    </tr>\n",
              "    <tr>\n",
              "      <th>DATE</th>\n",
              "      <th></th>\n",
              "      <th></th>\n",
              "      <th></th>\n",
              "      <th></th>\n",
              "      <th></th>\n",
              "      <th></th>\n",
              "      <th></th>\n",
              "      <th></th>\n",
              "      <th></th>\n",
              "      <th></th>\n",
              "      <th></th>\n",
              "      <th></th>\n",
              "      <th></th>\n",
              "      <th></th>\n",
              "    </tr>\n",
              "  </thead>\n",
              "  <tbody>\n",
              "    <tr>\n",
              "      <th>2008-07-01</th>\n",
              "      <td>NaN</td>\n",
              "      <td>NaN</td>\n",
              "      <td>3.0</td>\n",
              "      <td>NaN</td>\n",
              "      <td>NaN</td>\n",
              "      <td>NaN</td>\n",
              "      <td>NaN</td>\n",
              "      <td>NaN</td>\n",
              "      <td>NaN</td>\n",
              "      <td>NaN</td>\n",
              "      <td>NaN</td>\n",
              "      <td>NaN</td>\n",
              "      <td>NaN</td>\n",
              "      <td>NaN</td>\n",
              "    </tr>\n",
              "    <tr>\n",
              "      <th>2008-08-01</th>\n",
              "      <td>8.0</td>\n",
              "      <td>85.0</td>\n",
              "      <td>511.0</td>\n",
              "      <td>164.0</td>\n",
              "      <td>14.0</td>\n",
              "      <td>NaN</td>\n",
              "      <td>222.0</td>\n",
              "      <td>162.0</td>\n",
              "      <td>28.0</td>\n",
              "      <td>161.0</td>\n",
              "      <td>124.0</td>\n",
              "      <td>NaN</td>\n",
              "      <td>73.0</td>\n",
              "      <td>NaN</td>\n",
              "    </tr>\n",
              "    <tr>\n",
              "      <th>2008-09-01</th>\n",
              "      <td>28.0</td>\n",
              "      <td>321.0</td>\n",
              "      <td>1649.0</td>\n",
              "      <td>755.0</td>\n",
              "      <td>105.0</td>\n",
              "      <td>NaN</td>\n",
              "      <td>1137.0</td>\n",
              "      <td>640.0</td>\n",
              "      <td>131.0</td>\n",
              "      <td>482.0</td>\n",
              "      <td>542.0</td>\n",
              "      <td>6.0</td>\n",
              "      <td>290.0</td>\n",
              "      <td>NaN</td>\n",
              "    </tr>\n",
              "    <tr>\n",
              "      <th>2008-10-01</th>\n",
              "      <td>15.0</td>\n",
              "      <td>303.0</td>\n",
              "      <td>1989.0</td>\n",
              "      <td>811.0</td>\n",
              "      <td>112.0</td>\n",
              "      <td>NaN</td>\n",
              "      <td>1153.0</td>\n",
              "      <td>725.0</td>\n",
              "      <td>127.0</td>\n",
              "      <td>617.0</td>\n",
              "      <td>510.0</td>\n",
              "      <td>NaN</td>\n",
              "      <td>249.0</td>\n",
              "      <td>NaN</td>\n",
              "    </tr>\n",
              "    <tr>\n",
              "      <th>2008-11-01</th>\n",
              "      <td>17.0</td>\n",
              "      <td>259.0</td>\n",
              "      <td>1730.0</td>\n",
              "      <td>735.0</td>\n",
              "      <td>141.0</td>\n",
              "      <td>NaN</td>\n",
              "      <td>958.0</td>\n",
              "      <td>579.0</td>\n",
              "      <td>97.0</td>\n",
              "      <td>504.0</td>\n",
              "      <td>452.0</td>\n",
              "      <td>1.0</td>\n",
              "      <td>160.0</td>\n",
              "      <td>NaN</td>\n",
              "    </tr>\n",
              "  </tbody>\n",
              "</table>\n",
              "</div>"
            ],
            "text/plain": [
              "TAG         assembly      c      c#    c++  ...  python    r   ruby  swift\n",
              "DATE                                        ...                           \n",
              "2008-07-01       NaN    NaN     3.0    NaN  ...     NaN  NaN    NaN    NaN\n",
              "2008-08-01       8.0   85.0   511.0  164.0  ...   124.0  NaN   73.0    NaN\n",
              "2008-09-01      28.0  321.0  1649.0  755.0  ...   542.0  6.0  290.0    NaN\n",
              "2008-10-01      15.0  303.0  1989.0  811.0  ...   510.0  NaN  249.0    NaN\n",
              "2008-11-01      17.0  259.0  1730.0  735.0  ...   452.0  1.0  160.0    NaN\n",
              "\n",
              "[5 rows x 14 columns]"
            ]
          },
          "metadata": {},
          "execution_count": 13
        }
      ]
    },
    {
      "cell_type": "code",
      "metadata": {
        "id": "LnUIOL3LGxvA",
        "colab": {
          "base_uri": "https://localhost:8080/",
          "height": 234
        },
        "outputId": "10ac0d9b-401e-40b3-ca7c-a5ce352aace1"
      },
      "source": [
        "reshaped_df.tail()"
      ],
      "execution_count": 14,
      "outputs": [
        {
          "output_type": "execute_result",
          "data": {
            "text/html": [
              "<div>\n",
              "<style scoped>\n",
              "    .dataframe tbody tr th:only-of-type {\n",
              "        vertical-align: middle;\n",
              "    }\n",
              "\n",
              "    .dataframe tbody tr th {\n",
              "        vertical-align: top;\n",
              "    }\n",
              "\n",
              "    .dataframe thead th {\n",
              "        text-align: right;\n",
              "    }\n",
              "</style>\n",
              "<table border=\"1\" class=\"dataframe\">\n",
              "  <thead>\n",
              "    <tr style=\"text-align: right;\">\n",
              "      <th>TAG</th>\n",
              "      <th>assembly</th>\n",
              "      <th>c</th>\n",
              "      <th>c#</th>\n",
              "      <th>c++</th>\n",
              "      <th>delphi</th>\n",
              "      <th>go</th>\n",
              "      <th>java</th>\n",
              "      <th>javascript</th>\n",
              "      <th>perl</th>\n",
              "      <th>php</th>\n",
              "      <th>python</th>\n",
              "      <th>r</th>\n",
              "      <th>ruby</th>\n",
              "      <th>swift</th>\n",
              "    </tr>\n",
              "    <tr>\n",
              "      <th>DATE</th>\n",
              "      <th></th>\n",
              "      <th></th>\n",
              "      <th></th>\n",
              "      <th></th>\n",
              "      <th></th>\n",
              "      <th></th>\n",
              "      <th></th>\n",
              "      <th></th>\n",
              "      <th></th>\n",
              "      <th></th>\n",
              "      <th></th>\n",
              "      <th></th>\n",
              "      <th></th>\n",
              "      <th></th>\n",
              "    </tr>\n",
              "  </thead>\n",
              "  <tbody>\n",
              "    <tr>\n",
              "      <th>2020-03-01</th>\n",
              "      <td>317.0</td>\n",
              "      <td>2670.0</td>\n",
              "      <td>8954.0</td>\n",
              "      <td>5107.0</td>\n",
              "      <td>181.0</td>\n",
              "      <td>719.0</td>\n",
              "      <td>13253.0</td>\n",
              "      <td>20483.0</td>\n",
              "      <td>215.0</td>\n",
              "      <td>6672.0</td>\n",
              "      <td>26673.0</td>\n",
              "      <td>5761.0</td>\n",
              "      <td>780.0</td>\n",
              "      <td>3434.0</td>\n",
              "    </tr>\n",
              "    <tr>\n",
              "      <th>2020-04-01</th>\n",
              "      <td>406.0</td>\n",
              "      <td>3472.0</td>\n",
              "      <td>10042.0</td>\n",
              "      <td>6820.0</td>\n",
              "      <td>250.0</td>\n",
              "      <td>887.0</td>\n",
              "      <td>15377.0</td>\n",
              "      <td>24634.0</td>\n",
              "      <td>240.0</td>\n",
              "      <td>8060.0</td>\n",
              "      <td>32605.0</td>\n",
              "      <td>7047.0</td>\n",
              "      <td>860.0</td>\n",
              "      <td>4015.0</td>\n",
              "    </tr>\n",
              "    <tr>\n",
              "      <th>2020-05-01</th>\n",
              "      <td>386.0</td>\n",
              "      <td>3602.0</td>\n",
              "      <td>9923.0</td>\n",
              "      <td>7063.0</td>\n",
              "      <td>221.0</td>\n",
              "      <td>826.0</td>\n",
              "      <td>14711.0</td>\n",
              "      <td>25196.0</td>\n",
              "      <td>228.0</td>\n",
              "      <td>7917.0</td>\n",
              "      <td>34478.0</td>\n",
              "      <td>6833.0</td>\n",
              "      <td>774.0</td>\n",
              "      <td>4066.0</td>\n",
              "    </tr>\n",
              "    <tr>\n",
              "      <th>2020-06-01</th>\n",
              "      <td>363.0</td>\n",
              "      <td>2757.0</td>\n",
              "      <td>9064.0</td>\n",
              "      <td>6161.0</td>\n",
              "      <td>214.0</td>\n",
              "      <td>765.0</td>\n",
              "      <td>13015.0</td>\n",
              "      <td>23360.0</td>\n",
              "      <td>203.0</td>\n",
              "      <td>7188.0</td>\n",
              "      <td>31817.0</td>\n",
              "      <td>6249.0</td>\n",
              "      <td>670.0</td>\n",
              "      <td>3733.0</td>\n",
              "    </tr>\n",
              "    <tr>\n",
              "      <th>2020-07-01</th>\n",
              "      <td>298.0</td>\n",
              "      <td>2294.0</td>\n",
              "      <td>9145.0</td>\n",
              "      <td>5756.0</td>\n",
              "      <td>212.0</td>\n",
              "      <td>743.0</td>\n",
              "      <td>12723.0</td>\n",
              "      <td>23802.0</td>\n",
              "      <td>182.0</td>\n",
              "      <td>7334.0</td>\n",
              "      <td>31261.0</td>\n",
              "      <td>5694.0</td>\n",
              "      <td>775.0</td>\n",
              "      <td>3607.0</td>\n",
              "    </tr>\n",
              "  </tbody>\n",
              "</table>\n",
              "</div>"
            ],
            "text/plain": [
              "TAG         assembly       c       c#     c++  ...   python       r   ruby   swift\n",
              "DATE                                           ...                                \n",
              "2020-03-01     317.0  2670.0   8954.0  5107.0  ...  26673.0  5761.0  780.0  3434.0\n",
              "2020-04-01     406.0  3472.0  10042.0  6820.0  ...  32605.0  7047.0  860.0  4015.0\n",
              "2020-05-01     386.0  3602.0   9923.0  7063.0  ...  34478.0  6833.0  774.0  4066.0\n",
              "2020-06-01     363.0  2757.0   9064.0  6161.0  ...  31817.0  6249.0  670.0  3733.0\n",
              "2020-07-01     298.0  2294.0   9145.0  5756.0  ...  31261.0  5694.0  775.0  3607.0\n",
              "\n",
              "[5 rows x 14 columns]"
            ]
          },
          "metadata": {},
          "execution_count": 14
        }
      ]
    },
    {
      "cell_type": "markdown",
      "metadata": {
        "id": "BoDCuRU0GxvC"
      },
      "source": [
        "**Challenge**: Count the number of entries per programming language. Why might the number of entries be different? "
      ]
    },
    {
      "cell_type": "code",
      "metadata": {
        "id": "-peEFgaMGxvE",
        "colab": {
          "base_uri": "https://localhost:8080/"
        },
        "outputId": "77278c97-0484-43fc-88b8-950064e288e0"
      },
      "source": [
        "reshaped_df.count()"
      ],
      "execution_count": 15,
      "outputs": [
        {
          "output_type": "execute_result",
          "data": {
            "text/plain": [
              "TAG\n",
              "assembly      144\n",
              "c             144\n",
              "c#            145\n",
              "c++           144\n",
              "delphi        144\n",
              "go            129\n",
              "java          144\n",
              "javascript    144\n",
              "perl          144\n",
              "php           144\n",
              "python        144\n",
              "r             142\n",
              "ruby          144\n",
              "swift         135\n",
              "dtype: int64"
            ]
          },
          "metadata": {},
          "execution_count": 15
        }
      ]
    },
    {
      "cell_type": "markdown",
      "metadata": {
        "id": "fBT65mfseml1"
      },
      "source": [
        "Dealing with NaN Values\n",
        "\n",
        "In this case, we don't want to drop the rows that have a NaN value. Instead, we want to substitute the number 0 for each NaN value in the DataFrame. We can do this with the `.fillna()` method."
      ]
    },
    {
      "cell_type": "code",
      "metadata": {
        "id": "01f2BCF8GxvG"
      },
      "source": [
        "reshaped_df.fillna(0, inplace=True)"
      ],
      "execution_count": 16,
      "outputs": []
    },
    {
      "cell_type": "code",
      "metadata": {
        "id": "KooRRxAdGxvI",
        "colab": {
          "base_uri": "https://localhost:8080/",
          "height": 234
        },
        "outputId": "be623a80-8ab8-4b22-ac81-f66827140482"
      },
      "source": [
        "reshaped_df.head()"
      ],
      "execution_count": 17,
      "outputs": [
        {
          "output_type": "execute_result",
          "data": {
            "text/html": [
              "<div>\n",
              "<style scoped>\n",
              "    .dataframe tbody tr th:only-of-type {\n",
              "        vertical-align: middle;\n",
              "    }\n",
              "\n",
              "    .dataframe tbody tr th {\n",
              "        vertical-align: top;\n",
              "    }\n",
              "\n",
              "    .dataframe thead th {\n",
              "        text-align: right;\n",
              "    }\n",
              "</style>\n",
              "<table border=\"1\" class=\"dataframe\">\n",
              "  <thead>\n",
              "    <tr style=\"text-align: right;\">\n",
              "      <th>TAG</th>\n",
              "      <th>assembly</th>\n",
              "      <th>c</th>\n",
              "      <th>c#</th>\n",
              "      <th>c++</th>\n",
              "      <th>delphi</th>\n",
              "      <th>go</th>\n",
              "      <th>java</th>\n",
              "      <th>javascript</th>\n",
              "      <th>perl</th>\n",
              "      <th>php</th>\n",
              "      <th>python</th>\n",
              "      <th>r</th>\n",
              "      <th>ruby</th>\n",
              "      <th>swift</th>\n",
              "    </tr>\n",
              "    <tr>\n",
              "      <th>DATE</th>\n",
              "      <th></th>\n",
              "      <th></th>\n",
              "      <th></th>\n",
              "      <th></th>\n",
              "      <th></th>\n",
              "      <th></th>\n",
              "      <th></th>\n",
              "      <th></th>\n",
              "      <th></th>\n",
              "      <th></th>\n",
              "      <th></th>\n",
              "      <th></th>\n",
              "      <th></th>\n",
              "      <th></th>\n",
              "    </tr>\n",
              "  </thead>\n",
              "  <tbody>\n",
              "    <tr>\n",
              "      <th>2008-07-01</th>\n",
              "      <td>0.0</td>\n",
              "      <td>0.0</td>\n",
              "      <td>3.0</td>\n",
              "      <td>0.0</td>\n",
              "      <td>0.0</td>\n",
              "      <td>0.0</td>\n",
              "      <td>0.0</td>\n",
              "      <td>0.0</td>\n",
              "      <td>0.0</td>\n",
              "      <td>0.0</td>\n",
              "      <td>0.0</td>\n",
              "      <td>0.0</td>\n",
              "      <td>0.0</td>\n",
              "      <td>0.0</td>\n",
              "    </tr>\n",
              "    <tr>\n",
              "      <th>2008-08-01</th>\n",
              "      <td>8.0</td>\n",
              "      <td>85.0</td>\n",
              "      <td>511.0</td>\n",
              "      <td>164.0</td>\n",
              "      <td>14.0</td>\n",
              "      <td>0.0</td>\n",
              "      <td>222.0</td>\n",
              "      <td>162.0</td>\n",
              "      <td>28.0</td>\n",
              "      <td>161.0</td>\n",
              "      <td>124.0</td>\n",
              "      <td>0.0</td>\n",
              "      <td>73.0</td>\n",
              "      <td>0.0</td>\n",
              "    </tr>\n",
              "    <tr>\n",
              "      <th>2008-09-01</th>\n",
              "      <td>28.0</td>\n",
              "      <td>321.0</td>\n",
              "      <td>1649.0</td>\n",
              "      <td>755.0</td>\n",
              "      <td>105.0</td>\n",
              "      <td>0.0</td>\n",
              "      <td>1137.0</td>\n",
              "      <td>640.0</td>\n",
              "      <td>131.0</td>\n",
              "      <td>482.0</td>\n",
              "      <td>542.0</td>\n",
              "      <td>6.0</td>\n",
              "      <td>290.0</td>\n",
              "      <td>0.0</td>\n",
              "    </tr>\n",
              "    <tr>\n",
              "      <th>2008-10-01</th>\n",
              "      <td>15.0</td>\n",
              "      <td>303.0</td>\n",
              "      <td>1989.0</td>\n",
              "      <td>811.0</td>\n",
              "      <td>112.0</td>\n",
              "      <td>0.0</td>\n",
              "      <td>1153.0</td>\n",
              "      <td>725.0</td>\n",
              "      <td>127.0</td>\n",
              "      <td>617.0</td>\n",
              "      <td>510.0</td>\n",
              "      <td>0.0</td>\n",
              "      <td>249.0</td>\n",
              "      <td>0.0</td>\n",
              "    </tr>\n",
              "    <tr>\n",
              "      <th>2008-11-01</th>\n",
              "      <td>17.0</td>\n",
              "      <td>259.0</td>\n",
              "      <td>1730.0</td>\n",
              "      <td>735.0</td>\n",
              "      <td>141.0</td>\n",
              "      <td>0.0</td>\n",
              "      <td>958.0</td>\n",
              "      <td>579.0</td>\n",
              "      <td>97.0</td>\n",
              "      <td>504.0</td>\n",
              "      <td>452.0</td>\n",
              "      <td>1.0</td>\n",
              "      <td>160.0</td>\n",
              "      <td>0.0</td>\n",
              "    </tr>\n",
              "  </tbody>\n",
              "</table>\n",
              "</div>"
            ],
            "text/plain": [
              "TAG         assembly      c      c#    c++  ...  python    r   ruby  swift\n",
              "DATE                                        ...                           \n",
              "2008-07-01       0.0    0.0     3.0    0.0  ...     0.0  0.0    0.0    0.0\n",
              "2008-08-01       8.0   85.0   511.0  164.0  ...   124.0  0.0   73.0    0.0\n",
              "2008-09-01      28.0  321.0  1649.0  755.0  ...   542.0  6.0  290.0    0.0\n",
              "2008-10-01      15.0  303.0  1989.0  811.0  ...   510.0  0.0  249.0    0.0\n",
              "2008-11-01      17.0  259.0  1730.0  735.0  ...   452.0  1.0  160.0    0.0\n",
              "\n",
              "[5 rows x 14 columns]"
            ]
          },
          "metadata": {},
          "execution_count": 17
        }
      ]
    },
    {
      "cell_type": "markdown",
      "metadata": {
        "id": "rHCrwbpee9YT"
      },
      "source": [
        "We can also check if there are any NaN values left in the entire DataFrame with this line:"
      ]
    },
    {
      "cell_type": "code",
      "metadata": {
        "colab": {
          "base_uri": "https://localhost:8080/"
        },
        "id": "oLFWrAa3e90x",
        "outputId": "7da17e41-104b-4671-b788-3cc54d1e83fc"
      },
      "source": [
        "reshaped_df.isna().values.any()"
      ],
      "execution_count": 18,
      "outputs": [
        {
          "output_type": "execute_result",
          "data": {
            "text/plain": [
              "False"
            ]
          },
          "metadata": {},
          "execution_count": 18
        }
      ]
    },
    {
      "cell_type": "markdown",
      "metadata": {
        "id": "A6sADPEzfEiT"
      },
      "source": [
        "Here we are using the `.isna()` method that we've used before, but we're chaining two more things: the `values `attribute and the `any()` method. This means we don't have to search through the entire DataFrame to spot if `.isna()` is True."
      ]
    },
    {
      "cell_type": "markdown",
      "metadata": {
        "id": "8xU7l_f4GxvK"
      },
      "source": [
        "## Data Visualisaton with with Matplotlib\n"
      ]
    },
    {
      "cell_type": "markdown",
      "metadata": {
        "id": "njnNXTlhGxvK"
      },
      "source": [
        "**Challenge**: Use the [matplotlib documentation](https://matplotlib.org/3.2.1/api/_as_gen/matplotlib.pyplot.plot.html#matplotlib.pyplot.plot) to plot a single programming language (e.g., java) on a chart."
      ]
    },
    {
      "cell_type": "code",
      "metadata": {
        "id": "S0OS8T8iGxvL",
        "colab": {
          "base_uri": "https://localhost:8080/",
          "height": 282
        },
        "outputId": "3e17f5c9-b457-492d-e1aa-0dc6e4e69b96"
      },
      "source": [
        "plt.plot(reshaped_df.index, reshaped_df['java'])"
      ],
      "execution_count": 20,
      "outputs": [
        {
          "output_type": "execute_result",
          "data": {
            "text/plain": [
              "[<matplotlib.lines.Line2D at 0x7f9df20ca510>]"
            ]
          },
          "metadata": {},
          "execution_count": 20
        },
        {
          "output_type": "display_data",
          "data": {
            "image/png": "[encoded data removed]",
            "text/plain": [
              "<Figure size 432x288 with 1 Axes>"
            ]
          },
          "metadata": {
            "needs_background": "light"
          }
        }
      ]
    },
    {
      "cell_type": "markdown",
      "metadata": {
        "id": "fp4Ajb6Hf0j5"
      },
      "source": [
        "Styling the Chart\n",
        "\n",
        "Let's look at a couple of methods that will help us style our chart:\n",
        "\n",
        "`.figure()` - allows us to resize our chart\n",
        "\n",
        "`.xticks()` - configures our x-axis\n",
        "\n",
        "`.yticks()` - configures our y-axis\n",
        "\n",
        "`.xlabel()` - add text to the x-axis\n",
        "\n",
        "`.ylabel()` - add text to the y-axis\n",
        "\n",
        "`.ylim()` - allows us to set a lower and upper bound\n",
        "\n",
        "\n",
        "\n",
        "To make our chart larger we can provide a width (16) and a height (10) as the `figsize` of the figure."
      ]
    },
    {
      "cell_type": "code",
      "metadata": {
        "id": "EU6AV1l9GxvM"
      },
      "source": [
        "plt.figure(figsize=(16,10))\n",
        "plt.plot(reshaped_df.index, reshaped_df.java)"
      ],
      "execution_count": null,
      "outputs": []
    },
    {
      "cell_type": "markdown",
      "metadata": {
        "id": "Hpnn-hX3gIKY"
      },
      "source": [
        "This will make our chart easier to see. But when we increase the size of the chart, we should also increase the fontsize of the ticks on our axes so that they remain easy to read"
      ]
    },
    {
      "cell_type": "code",
      "metadata": {
        "id": "_Qzzg6b_GxvO"
      },
      "source": [
        "plt.figure(figsize=(16,10))\n",
        "plt.xticks(fontsize=14)\n",
        "plt.yticks(fontsize=14)\n",
        "plt.plot(reshaped_df.index, reshaped_df.java)"
      ],
      "execution_count": null,
      "outputs": []
    },
    {
      "cell_type": "markdown",
      "metadata": {
        "id": "11-RjOZxgcLx"
      },
      "source": [
        "Now we can add labels. Also, we're never going to get less than 0 posts, so let's set a lower limit of 0 for the y-axis with .ylim()"
      ]
    },
    {
      "cell_type": "code",
      "metadata": {
        "id": "d4D0G_Gzgcq_"
      },
      "source": [
        "plt.figure(figsize=(16,10))\n",
        "plt.xticks(fontsize=14)\n",
        "plt.yticks(fontsize=14)\n",
        "plt.xlabel('Date', fontsize=14)\n",
        "plt.ylabel('Number of Posts', fontsize=14)\n",
        "plt.ylim(0, 35000)\n",
        "plt.plot(reshaped_df.index, reshaped_df.java)"
      ],
      "execution_count": null,
      "outputs": []
    },
    {
      "cell_type": "markdown",
      "metadata": {
        "id": "Sm2DL5tZGxvQ"
      },
      "source": [
        "**Challenge**: Show two line (e.g. for Java and Python) on the same chart."
      ]
    },
    {
      "cell_type": "code",
      "metadata": {
        "id": "T-0vClQSGxvQ"
      },
      "source": [
        "plt.figure(figsize=(16,10))\n",
        "plt.xticks(fontsize=14)\n",
        "plt.yticks(fontsize=14)\n",
        "plt.xlabel('Date', fontsize=14)\n",
        "plt.ylabel('Number of Posts', fontsize=14)\n",
        "plt.ylim(0, 35000)\n",
        "plt.plot(reshaped_df.index, reshaped_df.java)\n",
        "plt.plot(reshaped_df.index, reshaped_df.python)"
      ],
      "execution_count": null,
      "outputs": []
    },
    {
      "cell_type": "markdown",
      "metadata": {
        "id": "Nx0_XGRGg3ug"
      },
      "source": [
        "But what if we wanted to plot all the programming languages on the same chart? We don't want to type out .plot() a million times, right? We can actually just use a for-loop:"
      ]
    },
    {
      "cell_type": "code",
      "metadata": {
        "id": "HJIEztWPg4SM"
      },
      "source": [
        "plt.figure(figsize=(16,10))\n",
        "plt.xticks(fontsize=14)\n",
        "plt.yticks(fontsize=14)\n",
        "plt.xlabel('Date', fontsize=14)\n",
        "plt.ylabel('Number of Posts', fontsize=14)\n",
        "plt.ylim(0, 35000)\n",
        "for column in reshaped_df.columns:\n",
        "    plt.plot(reshaped_df.index, reshaped_df[column], linewidth=3, label=reshaped_df[column].name)\n",
        "\n",
        "plt.legend(fontsize=16)"
      ],
      "execution_count": null,
      "outputs": []
    },
    {
      "cell_type": "markdown",
      "metadata": {
        "id": "3jSjfPy7GxvY"
      },
      "source": [
        "# Smoothing out Time Series Data\n",
        "\n",
        "Time series data can be quite noisy, with a lot of up and down spikes. To better see a trend we can plot an average of, say 6 or 12 observations. This is called the rolling mean. We calculate the average in a window of time and move it forward by one overservation. Pandas has two handy methods already built in to work this out: [rolling()](https://pandas.pydata.org/pandas-docs/stable/reference/api/pandas.DataFrame.rolling.html) and [mean()](https://pandas.pydata.org/pandas-docs/stable/reference/api/pandas.core.window.rolling.Rolling.mean.html). "
      ]
    },
    {
      "cell_type": "code",
      "metadata": {
        "id": "s3WYd3OgGxvc",
        "colab": {
          "base_uri": "https://localhost:8080/",
          "height": 636
        },
        "outputId": "17616f3b-cb02-48c2-a323-6f16431dc229"
      },
      "source": [
        "# The window is number of observations that are averaged\n",
        "roll_df = reshaped_df.rolling(window=6).mean()\n",
        "\n",
        "plt.figure(figsize=(16,10))\n",
        "plt.xticks(fontsize=14)\n",
        "plt.yticks(fontsize=14)\n",
        "plt.xlabel('Date', fontsize=14)\n",
        "plt.ylabel('Number of Posts', fontsize=14)\n",
        "plt.ylim(0, 35000)\n",
        " \n",
        "# plot the roll_df instead\n",
        "for column in roll_df.columns:\n",
        "    plt.plot(roll_df.index, roll_df[column], \n",
        "             linewidth=3, label=roll_df[column].name)\n",
        " \n",
        "plt.legend(fontsize=16)"
      ],
      "execution_count": 35,
      "outputs": [
        {
          "output_type": "execute_result",
          "data": {
            "text/plain": [
              "<matplotlib.legend.Legend at 0x7f9df0334710>"
            ]
          },
          "metadata": {},
          "execution_count": 35
        },
        {
          "output_type": "display_data",
          "data": {
            "image/png": "[encoded data removed]",
            "text/plain": [
              "<Figure size 1152x720 with 1 Axes>"
            ]
          },
          "metadata": {
            "needs_background": "light"
          }
        }
      ]
    },
    {
      "cell_type": "markdown",
      "metadata": {
        "id": "sRkClbDDigSQ"
      },
      "source": [
        "# Learning Points & Summary\n",
        "Congratulations on completing another challenging data science project! Today we've seen how to grab some raw data and create some interesting charts using Pandas and Matplotlib. We've\n",
        "\n",
        "* used `.groupby()` to explore the number of posts and entries per programming language\n",
        "\n",
        "* converted strings to Datetime objects with `.to_datetime()` for easier plotting\n",
        "\n",
        "* reshaped our DataFrame by converting categories to columns using `.pivot()`\n",
        "\n",
        "* used `.count()` and `isna().values.any()` to look for NaN values in our DataFrame, which we then replaced using `.fillna()`\n",
        "\n",
        "* created (multiple) line charts using `.plot()` with a for-loop\n",
        "\n",
        "* styled our charts by changing the size, the labels, and the upper and lower bounds of our axis.\n",
        "\n",
        "* added a legend to tell apart which line is which by colour\n",
        "\n",
        "* smoothed out our time-series observations with `.rolling().mean()` and plotted them to better identify trends over time.\n",
        "\n"
      ]
    },
    {
      "cell_type": "code",
      "metadata": {
        "id": "ajCJkVfmiwZY"
      },
      "source": [
        ""
      ],
      "execution_count": null,
      "outputs": []
    }
  ]
}